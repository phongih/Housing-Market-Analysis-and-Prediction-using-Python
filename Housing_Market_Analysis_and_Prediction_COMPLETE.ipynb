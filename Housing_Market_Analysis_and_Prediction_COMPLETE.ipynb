{
 "cells": [
  {
   "cell_type": "markdown",
   "id": "18786ca5",
   "metadata": {},
   "source": [
    "# 🏡 Housing Market Analysis and Prediction using Python\n",
    "\n",
    "This notebook performs end-to-end analysis and price prediction for housing data:\n",
    "- Data loading & cleaning\n",
    "- Exploratory data analysis (EDA)\n",
    "- Feature engineering\n",
    "- Model training & evaluation (Linear Regression, Random Forest)\n",
    "- Cross-validation & feature importance\n",
    "- Example predictions & model persistence\n",
    "\n",
    "> Note: This notebook uses **matplotlib** only for charts (no seaborn)."
   ]
  },
  {
   "cell_type": "markdown",
   "id": "9049c26a",
   "metadata": {},
   "source": [
    "## 1. Setup & Imports"
   ]
  },
  {
   "cell_type": "code",
   "execution_count": null,
   "id": "24ac8fd9",
   "metadata": {},
   "outputs": [],
   "source": [
    "import os\n",
    "import numpy as np\n",
    "import pandas as pd\n",
    "import matplotlib.pyplot as plt\n",
    "from sklearn.model_selection import train_test_split, cross_val_score\n",
    "from sklearn.linear_model import LinearRegression\n",
    "from sklearn.ensemble import RandomForestRegressor\n",
    "from sklearn.metrics import mean_squared_error, r2_score\n",
    "import joblib\n",
    "RANDOM_STATE = 42\n",
    "np.random.seed(RANDOM_STATE)\n"
   ]
  },
  {
   "cell_type": "markdown",
   "id": "ad7dd23e",
   "metadata": {},
   "source": [
    "## 2. Load Data\n",
    "The cell below will try to read a CSV file named `housing_market.csv` if it exists.\n",
    "If not found, it will create a small sample dataset similar to your original notebook."
   ]
  },
  {
   "cell_type": "code",
   "execution_count": null,
   "id": "d495f72e",
   "metadata": {},
   "outputs": [],
   "source": [
    "# Try reading a CSV; otherwise, create a small sample dataset\n",
    "csv_path = 'housing_market.csv'\n",
    "if os.path.exists(csv_path):\n",
    "    df = pd.read_csv(csv_path)\n",
    "else:\n",
    "    # Sample synthetic data (you can replace with your actual dataset)\n",
    "    data = {\n",
    "        'SqFt': [1000, 1200, 1500, 1800, 2000, 2200, 2500, 2700, 3000, 3200],\n",
    "        'Price': [200000, 230000, 280000, 330000, 360000, 390000, 450000, 480000, 550000, 590000],\n",
    "        'Bedrooms': [2, 2, 3, 3, 3, 4, 4, 4, 4, 5]\n",
    "    }\n",
    "    df = pd.DataFrame(data)\n",
    "df.head()\n"
   ]
  },
  {
   "cell_type": "markdown",
   "id": "d96a6cb2",
   "metadata": {},
   "source": [
    "## 3. Basic Data Checks"
   ]
  },
  {
   "cell_type": "code",
   "execution_count": null,
   "id": "f4a58db5",
   "metadata": {},
   "outputs": [],
   "source": [
    "print('Shape:', df.shape)\n",
    "print('\\nInfo:')\n",
    "print(df.info())\n",
    "print('\\nDescribe:')\n",
    "display(df.describe())\n",
    "print('\\nMissing values (per column):')\n",
    "print(df.isna().sum())\n"
   ]
  },
  {
   "cell_type": "markdown",
   "id": "eb9ac6f9",
   "metadata": {},
   "source": [
    "## 4. Exploratory Data Analysis (EDA)"
   ]
  },
  {
   "cell_type": "code",
   "execution_count": null,
   "id": "df9586d9",
   "metadata": {},
   "outputs": [],
   "source": [
    "# Histogram of Price\n",
    "plt.figure()\n",
    "plt.hist(df['Price'].dropna(), bins=10)\n",
    "plt.title('Distribution of House Prices')\n",
    "plt.xlabel('Price')\n",
    "plt.ylabel('Frequency')\n",
    "plt.show()\n",
    "\n",
    "# Scatter: Price vs SqFt\n",
    "plt.figure()\n",
    "plt.scatter(df['SqFt'], df['Price'])\n",
    "plt.title('Price vs. Square Feet')\n",
    "plt.xlabel('Square Feet')\n",
    "plt.ylabel('Price')\n",
    "plt.show()\n",
    "\n",
    "# Boxplot: Price by Bedrooms\n",
    "plt.figure()\n",
    "groups = [g['Price'].values for _, g in df.groupby('Bedrooms')]\n",
    "labels = [str(int(b)) for b in sorted(df['Bedrooms'].unique())]\n",
    "plt.boxplot(groups, labels=labels)\n",
    "plt.title('Price Distribution by Bedroom Count')\n",
    "plt.xlabel('Bedrooms')\n",
    "plt.ylabel('Price')\n",
    "plt.show()\n"
   ]
  },
  {
   "cell_type": "markdown",
   "id": "12229a1f",
   "metadata": {},
   "source": [
    "## 5. Feature Engineering"
   ]
  },
  {
   "cell_type": "code",
   "execution_count": null,
   "id": "a3b94d9d",
   "metadata": {},
   "outputs": [],
   "source": [
    "df['Price_per_SqFt'] = df['Price'] / df['SqFt']\n",
    "display(df.head())\n"
   ]
  },
  {
   "cell_type": "markdown",
   "id": "a3415e30",
   "metadata": {},
   "source": [
    "## 6. Train/Test Split & Baseline Models"
   ]
  },
  {
   "cell_type": "code",
   "execution_count": null,
   "id": "5c09f3af",
   "metadata": {},
   "outputs": [],
   "source": [
    "# Select features and target\n",
    "features = ['SqFt', 'Bedrooms']\n",
    "X = df[features]\n",
    "y = df['Price']\n",
    "\n",
    "X_train, X_test, y_train, y_test = train_test_split(\n",
    "    X, y, test_size=0.2, random_state=RANDOM_STATE\n",
    ")\n",
    "print('Train size:', X_train.shape, ' Test size:', X_test.shape)\n"
   ]
  },
  {
   "cell_type": "markdown",
   "id": "56f0117f",
   "metadata": {},
   "source": [
    "### 6.1 Linear Regression"
   ]
  },
  {
   "cell_type": "code",
   "execution_count": null,
   "id": "47bb8b17",
   "metadata": {},
   "outputs": [],
   "source": [
    "linreg = LinearRegression()\n",
    "linreg.fit(X_train, y_train)\n",
    "y_pred_lr = linreg.predict(X_test)\n",
    "mse_lr = mean_squared_error(y_test, y_pred_lr)\n",
    "rmse_lr = mean_squared_error(y_test, y_pred_lr, squared=False)\n",
    "r2_lr = r2_score(y_test, y_pred_lr)\n",
    "print(f'Linear Regression — RMSE: {rmse_lr:.2f}, R2: {r2_lr:.4f}')\n",
    "print('Coefficients:', dict(zip(features, linreg.coef_)))\n",
    "print('Intercept:', linreg.intercept_)\n"
   ]
  },
  {
   "cell_type": "markdown",
   "id": "9c9af00b",
   "metadata": {},
   "source": [
    "### 6.2 Random Forest Regressor"
   ]
  },
  {
   "cell_type": "code",
   "execution_count": null,
   "id": "6759ddff",
   "metadata": {},
   "outputs": [],
   "source": [
    "rf = RandomForestRegressor(n_estimators=300, random_state=RANDOM_STATE)\n",
    "rf.fit(X_train, y_train)\n",
    "y_pred_rf = rf.predict(X_test)\n",
    "rmse_rf = mean_squared_error(y_test, y_pred_rf, squared=False)\n",
    "r2_rf = r2_score(y_test, y_pred_rf)\n",
    "print(f'Random Forest — RMSE: {rmse_rf:.2f}, R2: {r2_rf:.4f}')\n",
    "print('Feature Importances:', dict(zip(features, rf.feature_importances_)))\n"
   ]
  },
  {
   "cell_type": "markdown",
   "id": "a1a42c6b",
   "metadata": {},
   "source": [
    "## 7. Cross-Validation (Optional)"
   ]
  },
  {
   "cell_type": "code",
   "execution_count": null,
   "id": "fe432700",
   "metadata": {},
   "outputs": [],
   "source": [
    "cv_scores = cross_val_score(linreg, X, y, cv=5, scoring='r2')\n",
    "print('Linear Regression 5-fold R²:', cv_scores)\n",
    "print('Mean R²:', cv_scores.mean().round(4))\n"
   ]
  },
  {
   "cell_type": "markdown",
   "id": "021991bb",
   "metadata": {},
   "source": [
    "## 8. Residual Analysis"
   ]
  },
  {
   "cell_type": "code",
   "execution_count": null,
   "id": "c4c0bfa2",
   "metadata": {},
   "outputs": [],
   "source": [
    "residuals = y_test - y_pred_lr\n",
    "plt.figure()\n",
    "plt.scatter(y_pred_lr, residuals)\n",
    "plt.axhline(0)\n",
    "plt.title('Residuals vs Predicted (Linear Regression)')\n",
    "plt.xlabel('Predicted Price')\n",
    "plt.ylabel('Residuals')\n",
    "plt.show()\n"
   ]
  },
  {
   "cell_type": "markdown",
   "id": "f6315dcf",
   "metadata": {},
   "source": [
    "## 9. Example Prediction"
   ]
  },
  {
   "cell_type": "code",
   "execution_count": null,
   "id": "54ee5b18",
   "metadata": {},
   "outputs": [],
   "source": [
    "# Example: predict price for a 2100 SqFt, 3-bedroom house\n",
    "example = pd.DataFrame({'SqFt': [2100], 'Bedrooms': [3]})\n",
    "pred_lr = linreg.predict(example)[0]\n",
    "pred_rf = rf.predict(example)[0]\n",
    "print('Example input:', example.to_dict(orient='records')[0])\n",
    "print(f'Predicted price (Linear Regression): {pred_lr:,.0f}')\n",
    "print(f'Predicted price (Random Forest):   {pred_rf:,.0f}')\n"
   ]
  },
  {
   "cell_type": "markdown",
   "id": "7d39c2e8",
   "metadata": {},
   "source": [
    "## 10. Save Trained Model(s)"
   ]
  },
  {
   "cell_type": "code",
   "execution_count": null,
   "id": "fd0918d1",
   "metadata": {},
   "outputs": [],
   "source": [
    "os.makedirs('artifacts', exist_ok=True)\n",
    "joblib.dump(linreg, 'artifacts/linear_regression.joblib')\n",
    "joblib.dump(rf, 'artifacts/random_forest.joblib')\n",
    "print('Saved to artifacts/.')\n"
   ]
  },
  {
   "cell_type": "markdown",
   "id": "7a400c8a",
   "metadata": {},
   "source": [
    "## 11. Conclusions & Next Steps\n",
    "- **Both models** provide a baseline; Random Forest can capture non-linear relationships.\n",
    "- Collect more data and add features (location, lot size, year built) to improve accuracy.\n",
    "- Try regularized models (Ridge/Lasso), gradient boosting, and hyperparameter tuning.\n",
    "- Validate with **time-based splits** if data is temporal.\n",
    "- Monitor for drift if deploying in production."
   ]
  }
 ],
 "metadata": {},
 "nbformat": 4,
 "nbformat_minor": 5
}
